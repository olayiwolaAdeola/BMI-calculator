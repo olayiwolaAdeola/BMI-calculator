{
 "cells": [
  {
   "cell_type": "code",
   "execution_count": null,
   "id": "20381be9-c3b1-43c5-bdf9-6f525d9557f1",
   "metadata": {},
   "outputs": [],
   "source": [
    "#BMI CALCULATOR\n",
    "#BMI=(weight in pounds x 703)/ (height in inches x height in inches)"
   ]
  },
  {
   "cell_type": "code",
   "execution_count": 35,
   "id": "8c8b22b3-0421-4c4b-9ac7-55c18f65a92c",
   "metadata": {},
   "outputs": [
    {
     "name": "stdin",
     "output_type": "stream",
     "text": [
      "Enter your name:  Adeola\n",
      "Enter your weight in pound:  170\n",
      "Enter your height in inches:  69\n"
     ]
    },
    {
     "name": "stdout",
     "output_type": "stream",
     "text": [
      "25.101869355177485\n",
      "Adeola, you are overweight. you need to exercise more\n"
     ]
    }
   ],
   "source": [
    "name= input(\"Enter your name: \")\n",
    "\n",
    "weight = int(input(\"Enter your weight in pound: \"))\n",
    "\n",
    "height = int(input(\"Enter your height in inches: \"))\n",
    "\n",
    "BMI=(weight * 703)/ (height * height)\n",
    "\n",
    "print(BMI)\n",
    "\n",
    "if BMI>0:\n",
    "    if(BMI<18.5):\n",
    "        print(name +\", you are underweight.\")\n",
    "    elif (BMI<=24.9):\n",
    "        print(name +\", you are normal weight .\")\n",
    "    elif (BMI<29.9):\n",
    "        print(name +\", you are overweight. you need to exercise more\")\n",
    "    elif (BMI<34.9):\n",
    "        print(name +\", you are obese.\")\n",
    "    elif (BMI<39.9):\n",
    "        print(name +\",you are severally Obese.\")\n",
    "    else:\n",
    "        print(name +\",you are morbidly obese.\")"
   ]
  },
  {
   "cell_type": "code",
   "execution_count": 7,
   "id": "19dff7c7-f0c4-4df6-b9dc-c5f02c11eb1b",
   "metadata": {},
   "outputs": [
    {
     "name": "stdout",
     "output_type": "stream",
     "text": [
      "170\n"
     ]
    }
   ],
   "source": [
    "print(weight)"
   ]
  },
  {
   "cell_type": "code",
   "execution_count": null,
   "id": "3cf7fb94-7fcf-4971-8767-7874345ff182",
   "metadata": {},
   "outputs": [],
   "source": [
    "Under 18.5\tUnderweight\tMinimal\n",
    "18.5 - 24.9\tNormal Weight\tMinimal\n",
    "25 - 29.9\tOverweight\tIncreased\n",
    "30 - 34.9\tObese\tHigh\n",
    "35 - 39.9\tSeverely Obese\tVery High\n",
    "40 and over\tMorbidly Obese\tExtremely High"
   ]
  },
  {
   "cell_type": "code",
   "execution_count": 29,
   "id": "8d674b7a-b1d6-4e7d-b960-a16bcad58ebe",
   "metadata": {},
   "outputs": [
    {
     "name": "stdout",
     "output_type": "stream",
     "text": [
      "Adeola, you are overweight.\n"
     ]
    }
   ],
   "source": [
    "if BMI>0:\n",
    "    if(BMI<18.5):\n",
    "        print(name +\", you are underweight.\")\n",
    "    elif (BMI<=24.9):\n",
    "        print(name +\", you are normal weight .\")\n",
    "    elif (BMI<29.9):\n",
    "        print(name +\", you are overweight.\")\n",
    "    elif (BMI<34.9):\n",
    "        print(name +\", you are obese.\")\n",
    "    elif (BMI<39.9):\n",
    "        print(name +\",you are severally pbese.\")\n",
    "    else:\n",
    "        print(name +\",you are morbidly obese.\")\n",
    "        "
   ]
  },
  {
   "cell_type": "code",
   "execution_count": null,
   "id": "c9091e25-77c8-4a03-962f-ae4455a69b9a",
   "metadata": {},
   "outputs": [],
   "source": []
  }
 ],
 "metadata": {
  "kernelspec": {
   "display_name": "Python 3 (ipykernel)",
   "language": "python",
   "name": "python3"
  },
  "language_info": {
   "codemirror_mode": {
    "name": "ipython",
    "version": 3
   },
   "file_extension": ".py",
   "mimetype": "text/x-python",
   "name": "python",
   "nbconvert_exporter": "python",
   "pygments_lexer": "ipython3",
   "version": "3.12.4"
  }
 },
 "nbformat": 4,
 "nbformat_minor": 5
}
